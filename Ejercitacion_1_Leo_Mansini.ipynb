{
  "nbformat": 4,
  "nbformat_minor": 2,
  "metadata": {
    "colab": {
      "name": "Ejercitacion 1 Leo Mansini.ipynb",
      "provenance": []
    },
    "kernelspec": {
      "name": "python3",
      "display_name": "Python 3.8.7 64-bit"
    },
    "language_info": {
      "name": "python",
      "version": "3.8.7",
      "mimetype": "text/x-python",
      "codemirror_mode": {
        "name": "ipython",
        "version": 3
      },
      "pygments_lexer": "ipython3",
      "nbconvert_exporter": "python",
      "file_extension": ".py"
    },
    "interpreter": {
      "hash": "fcb587a6e6109ce089cb730de53ef24ce46c97b815e62c7490366acdece9336e"
    }
  },
  "cells": [
    {
      "cell_type": "markdown",
      "source": [
        "## Ejercitacion 1.\r\n",
        "### Leo Mansini LU 318/19. \r\n",
        "Laboratorio de datos. 1° cuatrimestre 2021."
      ],
      "metadata": {
        "id": "XdE6od0stGPz"
      }
    },
    {
      "cell_type": "markdown",
      "source": [
        "Importo las librerías que voy a usar."
      ],
      "metadata": {
        "id": "yIOEMK3muWpJ"
      }
    },
    {
      "cell_type": "code",
      "execution_count": 1,
      "source": [
        "import numpy as np\r\n",
        "import pandas as pd\r\n",
        "pd.set_option('display.max_rows', 10)\r\n",
        "pd.set_option('display.max_columns', 10) # Para ver mas en el notebook cuando imprimo dataframes\r\n",
        "pd.options.mode.chained_assignment = None # Warnings que no correspondían para lo que hacía\r\n",
        "import matplotlib.pyplot as plt\r\n",
        "import seaborn as sbn"
      ],
      "outputs": [],
      "metadata": {
        "id": "ItNujdyWuU-n"
      }
    },
    {
      "cell_type": "code",
      "execution_count": 3,
      "source": [
        "# path OCEAN\r\n",
        "filename = './data/ocean_safe.csv' \r\n",
        "ocean_data = pd.read_csv(filename)\r\n",
        "# path Coronadelicos\r\n",
        "filename = './data/coronadelicos_safe.csv' \r\n",
        "coronadelicos_data = pd.read_csv(filename)"
      ],
      "outputs": [],
      "metadata": {
        "id": "PgrcYyMbrMFV"
      }
    },
    {
      "cell_type": "markdown",
      "source": [
        "Uno los dataframes y veo como se cargo."
      ],
      "metadata": {
        "id": "BwdKECxeN-zr"
      }
    },
    {
      "cell_type": "code",
      "execution_count": null,
      "source": [
        "data = pd.merge(ocean_data, coronadelicos_data, how = \"inner\", on = 'hash')\r\n",
        "data"
      ],
      "outputs": [
        {
          "output_type": "execute_result",
          "data": {
            "text/html": [
              "<div>\n",
              "<style scoped>\n",
              "    .dataframe tbody tr th:only-of-type {\n",
              "        vertical-align: middle;\n",
              "    }\n",
              "\n",
              "    .dataframe tbody tr th {\n",
              "        vertical-align: top;\n",
              "    }\n",
              "\n",
              "    .dataframe thead th {\n",
              "        text-align: right;\n",
              "    }\n",
              "</style>\n",
              "<table border=\"1\" class=\"dataframe\">\n",
              "  <thead>\n",
              "    <tr style=\"text-align: right;\">\n",
              "      <th></th>\n",
              "      <th>0_1</th>\n",
              "      <th>0_2</th>\n",
              "      <th>0_3</th>\n",
              "      <th>0_4</th>\n",
              "      <th>0_5</th>\n",
              "      <th>...</th>\n",
              "      <th>12_encuentro_salida_en_situacion_dificil</th>\n",
              "      <th>12_tengo_energia_para_lo_que_tengo_que_hacer</th>\n",
              "      <th>12_siento_comodo_si_hay_gente_a_la_que_no_le_agrado</th>\n",
              "      <th>13_login_disclaimer_fork</th>\n",
              "      <th>timestamp_y</th>\n",
              "    </tr>\n",
              "  </thead>\n",
              "  <tbody>\n",
              "    <tr>\n",
              "      <th>0</th>\n",
              "      <td>4</td>\n",
              "      <td>5</td>\n",
              "      <td>5</td>\n",
              "      <td>1</td>\n",
              "      <td>5</td>\n",
              "      <td>...</td>\n",
              "      <td>6</td>\n",
              "      <td>7</td>\n",
              "      <td>6</td>\n",
              "      <td>2</td>\n",
              "      <td>10/4/2020 20:43:47</td>\n",
              "    </tr>\n",
              "    <tr>\n",
              "      <th>1</th>\n",
              "      <td>4</td>\n",
              "      <td>3</td>\n",
              "      <td>5</td>\n",
              "      <td>3</td>\n",
              "      <td>4</td>\n",
              "      <td>...</td>\n",
              "      <td>5</td>\n",
              "      <td>4</td>\n",
              "      <td>6</td>\n",
              "      <td>2</td>\n",
              "      <td>10/5/2020 13:23:33</td>\n",
              "    </tr>\n",
              "    <tr>\n",
              "      <th>2</th>\n",
              "      <td>5</td>\n",
              "      <td>5</td>\n",
              "      <td>5</td>\n",
              "      <td>3</td>\n",
              "      <td>3</td>\n",
              "      <td>...</td>\n",
              "      <td>6</td>\n",
              "      <td>4</td>\n",
              "      <td>6</td>\n",
              "      <td>2</td>\n",
              "      <td>14/4/2020 15:39:08</td>\n",
              "    </tr>\n",
              "    <tr>\n",
              "      <th>3</th>\n",
              "      <td>4</td>\n",
              "      <td>4</td>\n",
              "      <td>5</td>\n",
              "      <td>4</td>\n",
              "      <td>4</td>\n",
              "      <td>...</td>\n",
              "      <td>6</td>\n",
              "      <td>3</td>\n",
              "      <td>2</td>\n",
              "      <td>2</td>\n",
              "      <td>25/5/2020 16:19:54</td>\n",
              "    </tr>\n",
              "    <tr>\n",
              "      <th>4</th>\n",
              "      <td>5</td>\n",
              "      <td>3</td>\n",
              "      <td>2</td>\n",
              "      <td>2</td>\n",
              "      <td>5</td>\n",
              "      <td>...</td>\n",
              "      <td>6</td>\n",
              "      <td>5</td>\n",
              "      <td>7</td>\n",
              "      <td>2</td>\n",
              "      <td>11/4/2020 13:21:43</td>\n",
              "    </tr>\n",
              "    <tr>\n",
              "      <th>...</th>\n",
              "      <td>...</td>\n",
              "      <td>...</td>\n",
              "      <td>...</td>\n",
              "      <td>...</td>\n",
              "      <td>...</td>\n",
              "      <td>...</td>\n",
              "      <td>...</td>\n",
              "      <td>...</td>\n",
              "      <td>...</td>\n",
              "      <td>...</td>\n",
              "      <td>...</td>\n",
              "    </tr>\n",
              "    <tr>\n",
              "      <th>8231</th>\n",
              "      <td>5</td>\n",
              "      <td>5</td>\n",
              "      <td>2</td>\n",
              "      <td>5</td>\n",
              "      <td>5</td>\n",
              "      <td>...</td>\n",
              "      <td>3</td>\n",
              "      <td>4</td>\n",
              "      <td>1</td>\n",
              "      <td>2</td>\n",
              "      <td>23/3/2021 20:02:22</td>\n",
              "    </tr>\n",
              "    <tr>\n",
              "      <th>8232</th>\n",
              "      <td>5</td>\n",
              "      <td>4</td>\n",
              "      <td>4</td>\n",
              "      <td>3</td>\n",
              "      <td>4</td>\n",
              "      <td>...</td>\n",
              "      <td>5</td>\n",
              "      <td>5</td>\n",
              "      <td>1</td>\n",
              "      <td>2</td>\n",
              "      <td>24/3/2021 19:00:11</td>\n",
              "    </tr>\n",
              "    <tr>\n",
              "      <th>8233</th>\n",
              "      <td>3</td>\n",
              "      <td>1</td>\n",
              "      <td>3</td>\n",
              "      <td>4</td>\n",
              "      <td>3</td>\n",
              "      <td>...</td>\n",
              "      <td>4</td>\n",
              "      <td>4</td>\n",
              "      <td>1</td>\n",
              "      <td>2</td>\n",
              "      <td>24/3/2021 23:18:10</td>\n",
              "    </tr>\n",
              "    <tr>\n",
              "      <th>8234</th>\n",
              "      <td>4</td>\n",
              "      <td>4</td>\n",
              "      <td>2</td>\n",
              "      <td>4</td>\n",
              "      <td>2</td>\n",
              "      <td>...</td>\n",
              "      <td>7</td>\n",
              "      <td>2</td>\n",
              "      <td>5</td>\n",
              "      <td>2</td>\n",
              "      <td>25/3/2021 12:08:05</td>\n",
              "    </tr>\n",
              "    <tr>\n",
              "      <th>8235</th>\n",
              "      <td>1</td>\n",
              "      <td>2</td>\n",
              "      <td>3</td>\n",
              "      <td>3</td>\n",
              "      <td>2</td>\n",
              "      <td>...</td>\n",
              "      <td>5</td>\n",
              "      <td>5</td>\n",
              "      <td>1</td>\n",
              "      <td>2</td>\n",
              "      <td>25/3/2021 12:47:27</td>\n",
              "    </tr>\n",
              "  </tbody>\n",
              "</table>\n",
              "<p>8236 rows × 196 columns</p>\n",
              "</div>"
            ],
            "text/plain": [
              "      0_1  0_2  0_3  0_4  0_5  ...  12_encuentro_salida_en_situacion_dificil  \\\n",
              "0       4    5    5    1    5  ...                                         6   \n",
              "1       4    3    5    3    4  ...                                         5   \n",
              "2       5    5    5    3    3  ...                                         6   \n",
              "3       4    4    5    4    4  ...                                         6   \n",
              "4       5    3    2    2    5  ...                                         6   \n",
              "...   ...  ...  ...  ...  ...  ...                                       ...   \n",
              "8231    5    5    2    5    5  ...                                         3   \n",
              "8232    5    4    4    3    4  ...                                         5   \n",
              "8233    3    1    3    4    3  ...                                         4   \n",
              "8234    4    4    2    4    2  ...                                         7   \n",
              "8235    1    2    3    3    2  ...                                         5   \n",
              "\n",
              "      12_tengo_energia_para_lo_que_tengo_que_hacer  \\\n",
              "0                                                7   \n",
              "1                                                4   \n",
              "2                                                4   \n",
              "3                                                3   \n",
              "4                                                5   \n",
              "...                                            ...   \n",
              "8231                                             4   \n",
              "8232                                             5   \n",
              "8233                                             4   \n",
              "8234                                             2   \n",
              "8235                                             5   \n",
              "\n",
              "      12_siento_comodo_si_hay_gente_a_la_que_no_le_agrado  \\\n",
              "0                                                     6     \n",
              "1                                                     6     \n",
              "2                                                     6     \n",
              "3                                                     2     \n",
              "4                                                     7     \n",
              "...                                                 ...     \n",
              "8231                                                  1     \n",
              "8232                                                  1     \n",
              "8233                                                  1     \n",
              "8234                                                  5     \n",
              "8235                                                  1     \n",
              "\n",
              "      13_login_disclaimer_fork         timestamp_y  \n",
              "0                            2  10/4/2020 20:43:47  \n",
              "1                            2  10/5/2020 13:23:33  \n",
              "2                            2  14/4/2020 15:39:08  \n",
              "3                            2  25/5/2020 16:19:54  \n",
              "4                            2  11/4/2020 13:21:43  \n",
              "...                        ...                 ...  \n",
              "8231                         2  23/3/2021 20:02:22  \n",
              "8232                         2  24/3/2021 19:00:11  \n",
              "8233                         2  24/3/2021 23:18:10  \n",
              "8234                         2  25/3/2021 12:08:05  \n",
              "8235                         2  25/3/2021 12:47:27  \n",
              "\n",
              "[8236 rows x 196 columns]"
            ]
          },
          "metadata": {
            "tags": []
          },
          "execution_count": 4
        }
      ],
      "metadata": {
        "id": "YjwfEA_wt54Y",
        "colab": {
          "base_uri": "https://localhost:8080/",
          "height": 609
        },
        "outputId": "368d9be4-8c20-4ddc-88e7-ca3ab04cc140"
      }
    },
    {
      "cell_type": "markdown",
      "source": [
        "Separo las personas que fumaron alguna vez marihuana, las que nunca fumaron, y aquellos que han consumido antidepresivos o antipsicoticos."
      ],
      "metadata": {
        "id": "N-JO7yy9OGDv"
      }
    },
    {
      "cell_type": "code",
      "execution_count": null,
      "source": [
        "# -999 = nunca consumió\n",
        "\n",
        "df_marihuanaSi = data[data[\"7_marihuana\"] != -999]\n",
        " \n",
        "df_marihuanaNo = data[data[\"7_marihuana\"] == -999]\n",
        " \n",
        "quimicos_index = (data[\"7_sedativos\"] != -999) | (data[\"7_antidepresivos o antipsicoticos\"] != -999)\n",
        "df_quimicos = data[quimicos_index]\n",
        "df_quimicos"
      ],
      "outputs": [
        {
          "output_type": "execute_result",
          "data": {
            "text/html": [
              "<div>\n",
              "<style scoped>\n",
              "    .dataframe tbody tr th:only-of-type {\n",
              "        vertical-align: middle;\n",
              "    }\n",
              "\n",
              "    .dataframe tbody tr th {\n",
              "        vertical-align: top;\n",
              "    }\n",
              "\n",
              "    .dataframe thead th {\n",
              "        text-align: right;\n",
              "    }\n",
              "</style>\n",
              "<table border=\"1\" class=\"dataframe\">\n",
              "  <thead>\n",
              "    <tr style=\"text-align: right;\">\n",
              "      <th></th>\n",
              "      <th>0_1</th>\n",
              "      <th>0_2</th>\n",
              "      <th>0_3</th>\n",
              "      <th>0_4</th>\n",
              "      <th>0_5</th>\n",
              "      <th>...</th>\n",
              "      <th>12_encuentro_salida_en_situacion_dificil</th>\n",
              "      <th>12_tengo_energia_para_lo_que_tengo_que_hacer</th>\n",
              "      <th>12_siento_comodo_si_hay_gente_a_la_que_no_le_agrado</th>\n",
              "      <th>13_login_disclaimer_fork</th>\n",
              "      <th>timestamp_y</th>\n",
              "    </tr>\n",
              "  </thead>\n",
              "  <tbody>\n",
              "    <tr>\n",
              "      <th>0</th>\n",
              "      <td>4</td>\n",
              "      <td>5</td>\n",
              "      <td>5</td>\n",
              "      <td>1</td>\n",
              "      <td>5</td>\n",
              "      <td>...</td>\n",
              "      <td>6</td>\n",
              "      <td>7</td>\n",
              "      <td>6</td>\n",
              "      <td>2</td>\n",
              "      <td>10/4/2020 20:43:47</td>\n",
              "    </tr>\n",
              "    <tr>\n",
              "      <th>3</th>\n",
              "      <td>4</td>\n",
              "      <td>4</td>\n",
              "      <td>5</td>\n",
              "      <td>4</td>\n",
              "      <td>4</td>\n",
              "      <td>...</td>\n",
              "      <td>6</td>\n",
              "      <td>3</td>\n",
              "      <td>2</td>\n",
              "      <td>2</td>\n",
              "      <td>25/5/2020 16:19:54</td>\n",
              "    </tr>\n",
              "    <tr>\n",
              "      <th>9</th>\n",
              "      <td>5</td>\n",
              "      <td>4</td>\n",
              "      <td>4</td>\n",
              "      <td>2</td>\n",
              "      <td>2</td>\n",
              "      <td>...</td>\n",
              "      <td>6</td>\n",
              "      <td>6</td>\n",
              "      <td>3</td>\n",
              "      <td>2</td>\n",
              "      <td>6/5/2020 21:37:08</td>\n",
              "    </tr>\n",
              "    <tr>\n",
              "      <th>12</th>\n",
              "      <td>4</td>\n",
              "      <td>4</td>\n",
              "      <td>2</td>\n",
              "      <td>5</td>\n",
              "      <td>3</td>\n",
              "      <td>...</td>\n",
              "      <td>3</td>\n",
              "      <td>1</td>\n",
              "      <td>4</td>\n",
              "      <td>2</td>\n",
              "      <td>14/4/2020 13:17:37</td>\n",
              "    </tr>\n",
              "    <tr>\n",
              "      <th>16</th>\n",
              "      <td>4</td>\n",
              "      <td>4</td>\n",
              "      <td>2</td>\n",
              "      <td>4</td>\n",
              "      <td>4</td>\n",
              "      <td>...</td>\n",
              "      <td>4</td>\n",
              "      <td>4</td>\n",
              "      <td>4</td>\n",
              "      <td>2</td>\n",
              "      <td>14/5/2020 22:21:36</td>\n",
              "    </tr>\n",
              "    <tr>\n",
              "      <th>...</th>\n",
              "      <td>...</td>\n",
              "      <td>...</td>\n",
              "      <td>...</td>\n",
              "      <td>...</td>\n",
              "      <td>...</td>\n",
              "      <td>...</td>\n",
              "      <td>...</td>\n",
              "      <td>...</td>\n",
              "      <td>...</td>\n",
              "      <td>...</td>\n",
              "      <td>...</td>\n",
              "    </tr>\n",
              "    <tr>\n",
              "      <th>8226</th>\n",
              "      <td>5</td>\n",
              "      <td>2</td>\n",
              "      <td>2</td>\n",
              "      <td>3</td>\n",
              "      <td>4</td>\n",
              "      <td>...</td>\n",
              "      <td>7</td>\n",
              "      <td>5</td>\n",
              "      <td>1</td>\n",
              "      <td>2</td>\n",
              "      <td>1/3/2021 8:58:17</td>\n",
              "    </tr>\n",
              "    <tr>\n",
              "      <th>8227</th>\n",
              "      <td>3</td>\n",
              "      <td>2</td>\n",
              "      <td>3</td>\n",
              "      <td>1</td>\n",
              "      <td>4</td>\n",
              "      <td>...</td>\n",
              "      <td>5</td>\n",
              "      <td>6</td>\n",
              "      <td>4</td>\n",
              "      <td>2</td>\n",
              "      <td>7/3/2021 1:57:40</td>\n",
              "    </tr>\n",
              "    <tr>\n",
              "      <th>8228</th>\n",
              "      <td>5</td>\n",
              "      <td>2</td>\n",
              "      <td>4</td>\n",
              "      <td>3</td>\n",
              "      <td>5</td>\n",
              "      <td>...</td>\n",
              "      <td>5</td>\n",
              "      <td>3</td>\n",
              "      <td>1</td>\n",
              "      <td>2</td>\n",
              "      <td>10/3/2021 12:29:56</td>\n",
              "    </tr>\n",
              "    <tr>\n",
              "      <th>8232</th>\n",
              "      <td>5</td>\n",
              "      <td>4</td>\n",
              "      <td>4</td>\n",
              "      <td>3</td>\n",
              "      <td>4</td>\n",
              "      <td>...</td>\n",
              "      <td>5</td>\n",
              "      <td>5</td>\n",
              "      <td>1</td>\n",
              "      <td>2</td>\n",
              "      <td>24/3/2021 19:00:11</td>\n",
              "    </tr>\n",
              "    <tr>\n",
              "      <th>8234</th>\n",
              "      <td>4</td>\n",
              "      <td>4</td>\n",
              "      <td>2</td>\n",
              "      <td>4</td>\n",
              "      <td>2</td>\n",
              "      <td>...</td>\n",
              "      <td>7</td>\n",
              "      <td>2</td>\n",
              "      <td>5</td>\n",
              "      <td>2</td>\n",
              "      <td>25/3/2021 12:08:05</td>\n",
              "    </tr>\n",
              "  </tbody>\n",
              "</table>\n",
              "<p>1742 rows × 196 columns</p>\n",
              "</div>"
            ],
            "text/plain": [
              "      0_1  0_2  0_3  0_4  0_5  ...  12_encuentro_salida_en_situacion_dificil  \\\n",
              "0       4    5    5    1    5  ...                                         6   \n",
              "3       4    4    5    4    4  ...                                         6   \n",
              "9       5    4    4    2    2  ...                                         6   \n",
              "12      4    4    2    5    3  ...                                         3   \n",
              "16      4    4    2    4    4  ...                                         4   \n",
              "...   ...  ...  ...  ...  ...  ...                                       ...   \n",
              "8226    5    2    2    3    4  ...                                         7   \n",
              "8227    3    2    3    1    4  ...                                         5   \n",
              "8228    5    2    4    3    5  ...                                         5   \n",
              "8232    5    4    4    3    4  ...                                         5   \n",
              "8234    4    4    2    4    2  ...                                         7   \n",
              "\n",
              "      12_tengo_energia_para_lo_que_tengo_que_hacer  \\\n",
              "0                                                7   \n",
              "3                                                3   \n",
              "9                                                6   \n",
              "12                                               1   \n",
              "16                                               4   \n",
              "...                                            ...   \n",
              "8226                                             5   \n",
              "8227                                             6   \n",
              "8228                                             3   \n",
              "8232                                             5   \n",
              "8234                                             2   \n",
              "\n",
              "      12_siento_comodo_si_hay_gente_a_la_que_no_le_agrado  \\\n",
              "0                                                     6     \n",
              "3                                                     2     \n",
              "9                                                     3     \n",
              "12                                                    4     \n",
              "16                                                    4     \n",
              "...                                                 ...     \n",
              "8226                                                  1     \n",
              "8227                                                  4     \n",
              "8228                                                  1     \n",
              "8232                                                  1     \n",
              "8234                                                  5     \n",
              "\n",
              "      13_login_disclaimer_fork         timestamp_y  \n",
              "0                            2  10/4/2020 20:43:47  \n",
              "3                            2  25/5/2020 16:19:54  \n",
              "9                            2   6/5/2020 21:37:08  \n",
              "12                           2  14/4/2020 13:17:37  \n",
              "16                           2  14/5/2020 22:21:36  \n",
              "...                        ...                 ...  \n",
              "8226                         2    1/3/2021 8:58:17  \n",
              "8227                         2    7/3/2021 1:57:40  \n",
              "8228                         2  10/3/2021 12:29:56  \n",
              "8232                         2  24/3/2021 19:00:11  \n",
              "8234                         2  25/3/2021 12:08:05  \n",
              "\n",
              "[1742 rows x 196 columns]"
            ]
          },
          "metadata": {
            "tags": []
          },
          "execution_count": 5
        }
      ],
      "metadata": {
        "id": "kRybKTlZvkWn",
        "colab": {
          "base_uri": "https://localhost:8080/",
          "height": 609
        },
        "outputId": "a4178f43-135b-4892-8278-7eb9dd1acdbb"
      }
    },
    {
      "cell_type": "markdown",
      "source": [
        "Extraigo las columnas con las 5 dimensiones de la personalidad de los tres datasets, y armo otro dataframe con los promedios de esas columnas para cada grupo que separé antes. También, normalizo esos promedios dividiendo por el máximo de cada columna."
      ],
      "metadata": {
        "id": "Eqi_TmG6OTRM"
      }
    },
    {
      "cell_type": "code",
      "execution_count": null,
      "source": [
        "dimensiones = ['1_extraversion', '1_agreeableness', '1_conscientiousness', '1_neuroticism', '1_openness']\n",
        "diccionario = {}\n",
        "for dim in dimensiones:\n",
        "  promedios = []\n",
        "  for df in [df_marihuanaNo, df_marihuanaSi, df_quimicos]:\n",
        "    prom = df[dim].mean()\n",
        "    promedios.append(prom)\n",
        "  diccionario[dim] = promedios\n",
        "\n",
        "grupos = [\"Nunca fumaron\", \"Han fumado\", \"Drogas de prescripción\"]\n",
        "dimensiones_label = [\"extraversión\", \"amabilidad\", \"responsabilidad\", \"neuroticismo\", \"apertura\"]\n",
        "\n",
        "colores = sbn.color_palette()[:3]\n",
        "colores_dict = dict(zip(grupos, colores)) # así uso los mismos colores todo el notebook\n",
        " \n",
        "df_dimensiones = pd.DataFrame(diccionario, index = grupos)\n",
        "df_dimensiones_norm = (df_dimensiones)/(df_dimensiones.max().max())\n",
        "print(df_dimensiones_norm)\n",
        "print(df_dimensiones)"
      ],
      "outputs": [
        {
          "output_type": "stream",
          "name": "stdout",
          "text": [
            "                        1_extraversion  1_agreeableness  1_conscientiousness  \\\n",
            "Nunca fumaron                 0.650622         0.838030             0.791428   \n",
            "Han fumado                    0.658511         0.829971             0.746559   \n",
            "Drogas de prescripción        0.650866         0.820219             0.738431   \n",
            "\n",
            "                        1_neuroticism  1_openness  \n",
            "Nunca fumaron                0.658164    0.965847  \n",
            "Han fumado                   0.663035    0.991568  \n",
            "Drogas de prescripción       0.719944    1.000000  \n",
            "                        1_extraversion  1_agreeableness  1_conscientiousness  \\\n",
            "Nunca fumaron                25.536346        32.891945            31.062868   \n",
            "Han fumado                   25.846005        32.575646            29.301814   \n",
            "Drogas de prescripción       25.545924        32.192882            28.982778   \n",
            "\n",
            "                        1_neuroticism  1_openness  \n",
            "Nunca fumaron               25.832351   37.908644  \n",
            "Han fumado                  26.023543   38.918178  \n",
            "Drogas de prescripción      28.257176   39.249139  \n"
          ]
        }
      ],
      "metadata": {
        "colab": {
          "base_uri": "https://localhost:8080/"
        },
        "id": "DKznx_qb2ELs",
        "outputId": "b3d41c36-2030-490b-f5ad-9b048681e99d"
      }
    },
    {
      "cell_type": "code",
      "execution_count": null,
      "source": [
        "def radar_plot(df, title = \"\",):\n",
        "  dimensiones = df.columns\n",
        "  angulos = [n/float(5) * 2 * np.pi for n in range(5)]\n",
        "  angulos += angulos[:1]\n",
        " \n",
        "  fig, ax = plt.subplots(figsize = (6,6), subplot_kw = {'projection': 'polar'})\n",
        "  \n",
        "  ax.set_theta_offset(np.pi / 2)\n",
        "  ax.set_theta_direction(-1)\n",
        " \n",
        "  ax.set_xticks(angulos)\n",
        "  ax.set_xticklabels(dimensiones_label, fontsize = 12)\n",
        " \n",
        "  ax.set_rlabel_position(0)\n",
        "  #yticks = [np.around(0.9+float(i)/100, decimals = 2) for i in range(1, 11)] # ajustado a mi ylim de (0.9, 1)\n",
        "  yticks = np.arange(0, 1, 0.1)\n",
        "  ax.set_yticks(yticks)\n",
        "  ax.set_yticklabels(yticks, \n",
        "                      color = 'darkgrey',\n",
        "                      size = 7)\n",
        "  #ax.set_ylim(0.9, 1)\n",
        "  ax.set_ylim(0, 1)\n",
        "\n",
        "\n",
        "  for encuestado in df.iloc:\n",
        "    valores = encuestado.values.flatten().tolist()\n",
        "    valores += valores[:1]\n",
        "    ax.plot(angulos, valores, linewidth=1.5, linestyle = 'solid', label = encuestado.name, color = colores_dict[encuestado.name])\n",
        "                                                                  # cambio label y uso mi diccionario para los colores\n",
        "    ax.fill(angulos, valores, 'b', alpha=0.1)\n",
        "  ax.legend(loc=(-0.2,-0.3),fontsize=12)\n",
        "  ax.set_title(title, position=(.5, 1.2),fontsize=15)"
      ],
      "outputs": [],
      "metadata": {
        "id": "gMmitVP92elb"
      }
    },
    {
      "cell_type": "markdown",
      "source": [
        "Grafico en un radar plot esos promedios normalizados coloreados por grupo."
      ],
      "metadata": {
        "id": "VgfZUP2GOzOQ"
      }
    },
    {
      "cell_type": "code",
      "execution_count": null,
      "source": [
        "radar_plot(df_dimensiones_norm, title= \"Dimensiones de la personalidad por grupos de coronadelicos.\") # y_axis = [0.9, 1]"
      ],
      "outputs": [
        {
          "output_type": "display_data",
          "data": {
            "image/png": "[encoded data removed]",
            "text/plain": [
              "<Figure size 432x432 with 1 Axes>"
            ]
          },
          "metadata": {
            "tags": []
          }
        }
      ],
      "metadata": {
        "colab": {
          "base_uri": "https://localhost:8080/",
          "height": 538
        },
        "id": "d65N8NwJ3m86",
        "outputId": "1377cc7c-b4d7-4907-a1d7-283e54e886cd"
      }
    },
    {
      "cell_type": "markdown",
      "source": [
        "Veo diferencias en dimensiones de la personalidad para cada grupo, voy a comparar en un histograma la dimension de neuroticismo para los grupos \"Drogas de prescripción\" y \"Han fumado\", y la dimension de responsabilidad para los grupos \"Han fumado\" y \"Nunca fumaron\"."
      ],
      "metadata": {
        "id": "dVldrjbPB5dT"
      }
    },
    {
      "cell_type": "code",
      "execution_count": null,
      "source": [
        "j = 0\n",
        "for i in [df_marihuanaNo, df_marihuanaSi, df_quimicos]:\n",
        "  i[\"grupo\"] = grupos[j]\n",
        "  j+=1\n",
        "\n",
        "comp_responsabilidad = df_marihuanaNo.append(df_marihuanaSi)[[\"1_conscientiousness\", \"grupo\"]] # me quedo solo con las columnas \"grupo\", y la dimension a comparar\n",
        "#comp_responsabilidad[\"1_conscientiousness\"] = comp_responsabilidad[\"1_conscientiousness\"]/comp_responsabilidad[\"1_conscientiousness\"].max()\n",
        "comp_neuroticismo = df_marihuanaSi.append(df_quimicos)[[\"1_neuroticism\", \"grupo\"]]\n",
        "#comp_neuroticismo[\"1_neuroticism\"] = comp_neuroticismo[\"1_neuroticism\"]/comp_neuroticismo[\"1_neuroticism\"].max()\n",
        "comp_neuroticismo"
      ],
      "outputs": [
        {
          "output_type": "execute_result",
          "data": {
            "text/html": [
              "<div>\n",
              "<style scoped>\n",
              "    .dataframe tbody tr th:only-of-type {\n",
              "        vertical-align: middle;\n",
              "    }\n",
              "\n",
              "    .dataframe tbody tr th {\n",
              "        vertical-align: top;\n",
              "    }\n",
              "\n",
              "    .dataframe thead th {\n",
              "        text-align: right;\n",
              "    }\n",
              "</style>\n",
              "<table border=\"1\" class=\"dataframe\">\n",
              "  <thead>\n",
              "    <tr style=\"text-align: right;\">\n",
              "      <th></th>\n",
              "      <th>1_neuroticism</th>\n",
              "      <th>grupo</th>\n",
              "    </tr>\n",
              "  </thead>\n",
              "  <tbody>\n",
              "    <tr>\n",
              "      <th>0</th>\n",
              "      <td>8</td>\n",
              "      <td>Han fumado</td>\n",
              "    </tr>\n",
              "    <tr>\n",
              "      <th>2</th>\n",
              "      <td>30</td>\n",
              "      <td>Han fumado</td>\n",
              "    </tr>\n",
              "    <tr>\n",
              "      <th>4</th>\n",
              "      <td>31</td>\n",
              "      <td>Han fumado</td>\n",
              "    </tr>\n",
              "    <tr>\n",
              "      <th>5</th>\n",
              "      <td>26</td>\n",
              "      <td>Han fumado</td>\n",
              "    </tr>\n",
              "    <tr>\n",
              "      <th>6</th>\n",
              "      <td>24</td>\n",
              "      <td>Han fumado</td>\n",
              "    </tr>\n",
              "    <tr>\n",
              "      <th>...</th>\n",
              "      <td>...</td>\n",
              "      <td>...</td>\n",
              "    </tr>\n",
              "    <tr>\n",
              "      <th>8226</th>\n",
              "      <td>35</td>\n",
              "      <td>Drogas de prescripción</td>\n",
              "    </tr>\n",
              "    <tr>\n",
              "      <th>8227</th>\n",
              "      <td>22</td>\n",
              "      <td>Drogas de prescripción</td>\n",
              "    </tr>\n",
              "    <tr>\n",
              "      <th>8228</th>\n",
              "      <td>27</td>\n",
              "      <td>Drogas de prescripción</td>\n",
              "    </tr>\n",
              "    <tr>\n",
              "      <th>8232</th>\n",
              "      <td>31</td>\n",
              "      <td>Drogas de prescripción</td>\n",
              "    </tr>\n",
              "    <tr>\n",
              "      <th>8234</th>\n",
              "      <td>20</td>\n",
              "      <td>Drogas de prescripción</td>\n",
              "    </tr>\n",
              "  </tbody>\n",
              "</table>\n",
              "<p>6924 rows × 2 columns</p>\n",
              "</div>"
            ],
            "text/plain": [
              "      1_neuroticism                   grupo\n",
              "0                 8              Han fumado\n",
              "2                30              Han fumado\n",
              "4                31              Han fumado\n",
              "5                26              Han fumado\n",
              "6                24              Han fumado\n",
              "...             ...                     ...\n",
              "8226             35  Drogas de prescripción\n",
              "8227             22  Drogas de prescripción\n",
              "8228             27  Drogas de prescripción\n",
              "8232             31  Drogas de prescripción\n",
              "8234             20  Drogas de prescripción\n",
              "\n",
              "[6924 rows x 2 columns]"
            ]
          },
          "metadata": {
            "tags": []
          },
          "execution_count": 19
        }
      ],
      "metadata": {
        "colab": {
          "base_uri": "https://localhost:8080/",
          "height": 415
        },
        "id": "6rDrIj1EHwje",
        "outputId": "bf16c350-5f93-4a51-f055-6c9ef7b24c5c"
      }
    },
    {
      "cell_type": "code",
      "execution_count": null,
      "source": [
        "\n",
        "fig, ax = plt.subplots(1, 2, figsize = (12, 4.8))\n",
        "sbn.histplot(comp_neuroticismo, x = \"1_neuroticism\", hue = \"grupo\", stat = \"probability\", ax = ax[0], palette = colores_dict, common_norm = False)\n",
        "ax[0].set_title(\"Comparación de neuroticismo entre consumidores\\n de drogas de prescripción y consumidores de marihuana\")\n",
        "prom_n_msi = comp_neuroticismo[comp_neuroticismo[\"grupo\"] == \"Han fumado\"][\"1_neuroticism\"].mean()\n",
        "prom_n_qui = comp_neuroticismo[comp_neuroticismo[\"grupo\"] == \"Drogas de prescripción\"][\"1_neuroticism\"].mean()\n",
        "ax[0].axvline(prom_n_qui, 0, 1, lw = 3, ls = \"--\", color = colores_dict[\"Drogas de prescripción\"], label = \"Promedio 'Drogas de prescripción'\")\n",
        "ax[0].axvline(prom_n_msi, 0, 1, lw = 3, ls = \"--\",  color = colores_dict[\"Han fumado\"], label = \"Promedio 'Han fumado'\")\n",
        "ax[0].legend(bbox_to_anchor=(0.5, -0.3), loc=\"lower center\")\n",
        "\n",
        "sbn.histplot(comp_responsabilidad, x = \"1_conscientiousness\", hue = \"grupo\", stat = \"probability\", ax = ax[1], palette = colores_dict, common_norm = False)\n",
        "ax[1].set_title(\"Comparación de responsabilidad entre consumidores\\n de marihuana y personas que no han consumido nunca\")\n",
        "prom_c_mno = comp_responsabilidad[comp_responsabilidad[\"grupo\"] == \"Nunca fumaron\"][\"1_conscientiousness\"].mean()\n",
        "prom_c_msi = comp_responsabilidad[comp_responsabilidad[\"grupo\"] == \"Han fumado\"][\"1_conscientiousness\"].mean()\n",
        "ax[1].axvline(prom_c_mno, 0, 1, lw = 3, ls = \"--\", color = colores_dict[\"Nunca fumaron\"], label = \"Promedio 'Nunca fumaron'\")\n",
        "ax[1].axvline(prom_c_msi, 0, 1, lw = 3, ls = \"--\", color = colores_dict[\"Han fumado\"], label = \"Promedio 'Han fumado'\")\n",
        "ax[1].legend(bbox_to_anchor=(0.5, -0.3), loc=\"lower center\")"
      ],
      "outputs": [
        {
          "output_type": "execute_result",
          "data": {
            "text/plain": [
              "<matplotlib.legend.Legend at 0x7fb8760fd990>"
            ]
          },
          "metadata": {
            "tags": []
          },
          "execution_count": 20
        },
        {
          "output_type": "display_data",
          "data": {
            "image/png": "[encoded data removed]",
            "text/plain": [
              "<Figure size 864x345.6 with 2 Axes>"
            ]
          },
          "metadata": {
            "tags": [],
            "needs_background": "light"
          }
        }
      ],
      "metadata": {
        "id": "Ygo5peW39ROw",
        "colab": {
          "base_uri": "https://localhost:8080/",
          "height": 413
        },
        "outputId": "cc89c625-74c8-4738-c281-edeb56e5a580"
      }
    },
    {
      "cell_type": "code",
      "execution_count": null,
      "source": [
        "sd_n_msi = comp_neuroticismo[comp_neuroticismo[\"grupo\"] == \"Han fumado\"][\"1_neuroticism\"].std()\n",
        "sd_n_qui = comp_neuroticismo[comp_neuroticismo[\"grupo\"] == \"Drogas de prescripción\"][\"1_neuroticism\"].std()\n",
        "\n",
        "sd_c_msi = comp_responsabilidad[comp_responsabilidad[\"grupo\"] == \"Han fumado\"][\"1_conscientiousness\"].std()\n",
        "sd_c_mno = comp_responsabilidad[comp_responsabilidad[\"grupo\"] == \"Nunca fumaron\"][\"1_conscientiousness\"].std()\n",
        "\n",
        "\n",
        "d_cohen_n = (prom_n_msi - prom_n_qui)/np.sqrt((sd_n_msi**2 + sd_n_qui**2)/2)\n",
        "d_cohen_c = (prom_c_msi - prom_c_mno)/np.sqrt((sd_c_msi**2 + sd_c_mno**2)/2)\n",
        "\n",
        "print(abs(d_cohen_n), abs(d_cohen_c))\n",
        "print(sd_n_msi, sd_n_qui, prom_n_msi, prom_n_qui)"
      ],
      "outputs": [
        {
          "output_type": "stream",
          "name": "stdout",
          "text": [
            "0.34761850957561163 0.2654491546719551\n",
            "6.627618626079108 6.216872472060101 26.02354303357777 28.257175660160733\n"
          ]
        }
      ],
      "metadata": {
        "colab": {
          "base_uri": "https://localhost:8080/"
        },
        "id": "hx7tqRYnAcy0",
        "outputId": "c9075730-c237-47d6-97c8-d1d72521bd87"
      }
    },
    {
      "cell_type": "markdown",
      "source": [
        "La D de Cohen entre las mediciones de neuroticismo entre los que han fumado marihuana y los que han consumido drogas de prescripción es de 0.348.\n",
        "\n",
        "La D de Cohen entre las mediciones de responsabilidad entre los que nunca han fumado marihuana y los que han fumado es de 0.265.\n",
        "\n",
        "Siguiendo el criterio de la D de Cohen, hay un efecto de magnitud pequeña en las mediciones de responsabilidad si la persona fumo o no marihuana, y hay otro efecto, entre pequeño y mediano, en las mediciones de neurocitismo, según se mida a las personas que consumieron drogas de prescripción o las que han fumado marihuana"
      ],
      "metadata": {
        "id": "iV7H--HZTPIE"
      }
    }
  ]
}
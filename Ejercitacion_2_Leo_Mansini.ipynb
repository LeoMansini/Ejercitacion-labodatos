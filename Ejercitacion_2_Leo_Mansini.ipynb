{
  "nbformat": 4,
  "nbformat_minor": 2,
  "metadata": {
    "colab": {
      "name": "Ejercitacion 2 Leo Mansini.ipynb",
      "provenance": []
    },
    "kernelspec": {
      "name": "python3",
      "display_name": "Python 3.8.7 64-bit"
    },
    "language_info": {
      "name": "python",
      "version": "3.8.7",
      "mimetype": "text/x-python",
      "codemirror_mode": {
        "name": "ipython",
        "version": 3
      },
      "pygments_lexer": "ipython3",
      "nbconvert_exporter": "python",
      "file_extension": ".py"
    },
    "interpreter": {
      "hash": "fcb587a6e6109ce089cb730de53ef24ce46c97b815e62c7490366acdece9336e"
    }
  },
  "cells": [
    {
      "cell_type": "code",
      "execution_count": 4,
      "source": [
        "import numpy as np\r\n",
        "import pandas as pd\r\n",
        "import matplotlib.pyplot as plt\r\n",
        "import seaborn as sbn\r\n",
        "from sklearn.linear_model import LogisticRegression"
      ],
      "outputs": [],
      "metadata": {
        "id": "6Je1ose7uzfQ"
      }
    },
    {
      "cell_type": "code",
      "execution_count": 6,
      "source": [
        "filename = './data/anticoncepcion_indonesia.csv'\r\n",
        "indonesia = pd.read_csv(filename)"
      ],
      "outputs": [],
      "metadata": {
        "id": "EJfKL2O1vZZQ"
      }
    },
    {
      "cell_type": "code",
      "execution_count": null,
      "source": [
        "indonesia.columns"
      ],
      "outputs": [
        {
          "output_type": "execute_result",
          "data": {
            "text/plain": [
              "Index(['edad_mujer', 'educacion_mujer', 'educacion_hombre', 'numero_hijos',\n",
              "       'religion_mujer', 'mujer_trabaja', 'ocupacion_hombre', 'nivel_vida',\n",
              "       'exposicion_medios', 'metodo_anticonceptivo'],\n",
              "      dtype='object')"
            ]
          },
          "metadata": {
            "tags": []
          },
          "execution_count": 4
        }
      ],
      "metadata": {
        "colab": {
          "base_uri": "https://localhost:8080/"
        },
        "id": "gHPeMLUFv2Sj",
        "outputId": "8766faf5-f235-4955-eaea-203bfaaa0294"
      }
    },
    {
      "cell_type": "code",
      "execution_count": null,
      "source": [
        "indonesia.isnull().values.any()"
      ],
      "outputs": [
        {
          "output_type": "execute_result",
          "data": {
            "text/plain": [
              "False"
            ]
          },
          "metadata": {
            "tags": []
          },
          "execution_count": 5
        }
      ],
      "metadata": {
        "colab": {
          "base_uri": "https://localhost:8080/"
        },
        "id": "xxsYa_N0v5SL",
        "outputId": "f14ddd1f-1154-415e-fcce-3c9e047b5be6"
      }
    },
    {
      "cell_type": "code",
      "execution_count": null,
      "source": [
        "indonesia.shape"
      ],
      "outputs": [
        {
          "output_type": "execute_result",
          "data": {
            "text/plain": [
              "(296, 10)"
            ]
          },
          "metadata": {
            "tags": []
          },
          "execution_count": 6
        }
      ],
      "metadata": {
        "colab": {
          "base_uri": "https://localhost:8080/"
        },
        "id": "4H2Eqh8SxJwf",
        "outputId": "1c582d7a-c2b3-475e-f9a9-5d0590df1ae5"
      }
    },
    {
      "cell_type": "code",
      "execution_count": null,
      "source": [
        "indonesia.describe()"
      ],
      "outputs": [
        {
          "output_type": "execute_result",
          "data": {
            "text/html": [
              "<div>\n",
              "<style scoped>\n",
              "    .dataframe tbody tr th:only-of-type {\n",
              "        vertical-align: middle;\n",
              "    }\n",
              "\n",
              "    .dataframe tbody tr th {\n",
              "        vertical-align: top;\n",
              "    }\n",
              "\n",
              "    .dataframe thead th {\n",
              "        text-align: right;\n",
              "    }\n",
              "</style>\n",
              "<table border=\"1\" class=\"dataframe\">\n",
              "  <thead>\n",
              "    <tr style=\"text-align: right;\">\n",
              "      <th></th>\n",
              "      <th>edad_mujer</th>\n",
              "      <th>educacion_mujer</th>\n",
              "      <th>educacion_hombre</th>\n",
              "      <th>numero_hijos</th>\n",
              "      <th>religion_mujer</th>\n",
              "      <th>mujer_trabaja</th>\n",
              "      <th>ocupacion_hombre</th>\n",
              "      <th>nivel_vida</th>\n",
              "      <th>exposicion_medios</th>\n",
              "      <th>metodo_anticonceptivo</th>\n",
              "    </tr>\n",
              "  </thead>\n",
              "  <tbody>\n",
              "    <tr>\n",
              "      <th>count</th>\n",
              "      <td>296.000000</td>\n",
              "      <td>296.000000</td>\n",
              "      <td>296.000000</td>\n",
              "      <td>296.000000</td>\n",
              "      <td>296.000000</td>\n",
              "      <td>296.000000</td>\n",
              "      <td>296.000000</td>\n",
              "      <td>296.000000</td>\n",
              "      <td>296.000000</td>\n",
              "      <td>296.000000</td>\n",
              "    </tr>\n",
              "    <tr>\n",
              "      <th>mean</th>\n",
              "      <td>32.408784</td>\n",
              "      <td>3.016892</td>\n",
              "      <td>3.462838</td>\n",
              "      <td>3.179054</td>\n",
              "      <td>0.888514</td>\n",
              "      <td>0.746622</td>\n",
              "      <td>2.091216</td>\n",
              "      <td>3.165541</td>\n",
              "      <td>0.067568</td>\n",
              "      <td>1.875000</td>\n",
              "    </tr>\n",
              "    <tr>\n",
              "      <th>std</th>\n",
              "      <td>8.164316</td>\n",
              "      <td>0.975836</td>\n",
              "      <td>0.810087</td>\n",
              "      <td>2.259076</td>\n",
              "      <td>0.315267</td>\n",
              "      <td>0.435682</td>\n",
              "      <td>0.872435</td>\n",
              "      <td>0.972309</td>\n",
              "      <td>0.251427</td>\n",
              "      <td>0.864311</td>\n",
              "    </tr>\n",
              "    <tr>\n",
              "      <th>min</th>\n",
              "      <td>16.000000</td>\n",
              "      <td>1.000000</td>\n",
              "      <td>1.000000</td>\n",
              "      <td>0.000000</td>\n",
              "      <td>0.000000</td>\n",
              "      <td>0.000000</td>\n",
              "      <td>1.000000</td>\n",
              "      <td>1.000000</td>\n",
              "      <td>0.000000</td>\n",
              "      <td>1.000000</td>\n",
              "    </tr>\n",
              "    <tr>\n",
              "      <th>25%</th>\n",
              "      <td>26.000000</td>\n",
              "      <td>2.000000</td>\n",
              "      <td>3.000000</td>\n",
              "      <td>1.000000</td>\n",
              "      <td>1.000000</td>\n",
              "      <td>0.000000</td>\n",
              "      <td>1.000000</td>\n",
              "      <td>3.000000</td>\n",
              "      <td>0.000000</td>\n",
              "      <td>1.000000</td>\n",
              "    </tr>\n",
              "    <tr>\n",
              "      <th>50%</th>\n",
              "      <td>32.000000</td>\n",
              "      <td>3.000000</td>\n",
              "      <td>4.000000</td>\n",
              "      <td>3.000000</td>\n",
              "      <td>1.000000</td>\n",
              "      <td>1.000000</td>\n",
              "      <td>2.000000</td>\n",
              "      <td>3.000000</td>\n",
              "      <td>0.000000</td>\n",
              "      <td>2.000000</td>\n",
              "    </tr>\n",
              "    <tr>\n",
              "      <th>75%</th>\n",
              "      <td>39.000000</td>\n",
              "      <td>4.000000</td>\n",
              "      <td>4.000000</td>\n",
              "      <td>4.000000</td>\n",
              "      <td>1.000000</td>\n",
              "      <td>1.000000</td>\n",
              "      <td>3.000000</td>\n",
              "      <td>4.000000</td>\n",
              "      <td>0.000000</td>\n",
              "      <td>3.000000</td>\n",
              "    </tr>\n",
              "    <tr>\n",
              "      <th>max</th>\n",
              "      <td>49.000000</td>\n",
              "      <td>4.000000</td>\n",
              "      <td>4.000000</td>\n",
              "      <td>13.000000</td>\n",
              "      <td>1.000000</td>\n",
              "      <td>1.000000</td>\n",
              "      <td>4.000000</td>\n",
              "      <td>4.000000</td>\n",
              "      <td>1.000000</td>\n",
              "      <td>3.000000</td>\n",
              "    </tr>\n",
              "  </tbody>\n",
              "</table>\n",
              "</div>"
            ],
            "text/plain": [
              "       edad_mujer  educacion_mujer  ...  exposicion_medios  metodo_anticonceptivo\n",
              "count  296.000000       296.000000  ...         296.000000             296.000000\n",
              "mean    32.408784         3.016892  ...           0.067568               1.875000\n",
              "std      8.164316         0.975836  ...           0.251427               0.864311\n",
              "min     16.000000         1.000000  ...           0.000000               1.000000\n",
              "25%     26.000000         2.000000  ...           0.000000               1.000000\n",
              "50%     32.000000         3.000000  ...           0.000000               2.000000\n",
              "75%     39.000000         4.000000  ...           0.000000               3.000000\n",
              "max     49.000000         4.000000  ...           1.000000               3.000000\n",
              "\n",
              "[8 rows x 10 columns]"
            ]
          },
          "metadata": {
            "tags": []
          },
          "execution_count": 7
        }
      ],
      "metadata": {
        "colab": {
          "base_uri": "https://localhost:8080/",
          "height": 314
        },
        "id": "u17bNqsav6S6",
        "outputId": "ec3c661b-b89b-418c-9d72-a7fa836a7c33"
      }
    },
    {
      "cell_type": "code",
      "execution_count": null,
      "source": [
        "indonesia[\"anticoncepcion\"] = (indonesia[\"metodo_anticonceptivo\"] != 1)*1\r\n",
        "indonesia[\"tuvo_hijos\"] = (indonesia[\"numero_hijos\"] > 0)*1\r\n",
        "indonesia.corr()[\"anticoncepcion\"][:-3]"
      ],
      "outputs": [
        {
          "output_type": "execute_result",
          "data": {
            "text/plain": [
              "edad_mujer          -0.118042\n",
              "educacion_mujer      0.245856\n",
              "educacion_hombre     0.089419\n",
              "numero_hijos         0.128046\n",
              "religion_mujer       0.030153\n",
              "mujer_trabaja        0.059541\n",
              "ocupacion_hombre    -0.109729\n",
              "nivel_vida           0.158967\n",
              "exposicion_medios   -0.139520\n",
              "Name: anticoncepcion, dtype: float64"
            ]
          },
          "metadata": {
            "tags": []
          },
          "execution_count": 8
        }
      ],
      "metadata": {
        "id": "A7IKr2LbxUAn",
        "colab": {
          "base_uri": "https://localhost:8080/"
        },
        "outputId": "0e56b7e5-6a51-44fc-8360-7a4f890a1159"
      }
    },
    {
      "cell_type": "code",
      "execution_count": null,
      "source": [
        "from sklearn.feature_selection import SelectKBest\r\n",
        "from sklearn.preprocessing import MinMaxScaler\r\n",
        "from sklearn.model_selection import StratifiedKFold\r\n",
        "from sklearn.metrics import roc_curve\r\n",
        "from sklearn.metrics import roc_auc_score\r\n",
        "\r\n",
        "# Definamos la matriz X\r\n",
        "campos = ['edad_mujer', 'educacion_mujer', 'numero_hijos',  'tuvo_hijos', #'educacion_hombre', 'religion_mujer', 'mujer_trabaja', \r\n",
        "        'ocupacion_hombre', 'nivel_vida',\r\n",
        "       'exposicion_medios'] # Lista que contiene las features de interés.\r\n",
        "\r\n",
        "X = indonesia[campos].values # En este caso no hace falta reshapear, porque ya tiene la forma que queremos\r\n",
        "y = np.array(indonesia['anticoncepcion']) # Nuestra etiqueta sigue siende la misma de antes\r\n",
        "X = np.concatenate((X, X**2, X**3), axis=1) # agrego features elevados a potencias, terminan siendo #campos*3\r\n",
        "\r\n",
        "\r\n",
        "#c_values = [round(i, 1) for i in np.arange(0.2, 5.2, 0.2)]\r\n",
        "c_values = [round(i, 1) for i in np.arange(0.5, 15.5, 0.5)] #[0.5, 1, 2, 3, 4, 5, 10, 20, 30]\r\n",
        "k_values = range(1, len(campos)*3+1)\r\n",
        "\r\n",
        "AUC_promedio_test = np.zeros((len(c_values),len(k_values)))\r\n",
        "AUC_promedio_train = np.zeros((len(c_values),len(k_values)))\r\n",
        "\r\n",
        "c_index = 0\r\n",
        "k_index = 0\r\n",
        "Best_auc = 0\r\n",
        "for c in c_values:\r\n",
        "  k_index = 0\r\n",
        "\r\n",
        "  for Kbest in k_values:\r\n",
        "    skf = StratifiedKFold(n_splits=5, shuffle=True) # 5 folds es un número típico si tenemos suficientes datos. Pedimos shuffle=True para que sea al azar la separación en subgrupos\r\n",
        "    skf.get_n_splits(X, y) # arma los folds a partir de los datos\r\n",
        "\r\n",
        "    auc_values_fs_test =  []  # aca es donde van a ir a parar los indices de los features seleccionados en cada fold\r\n",
        "    selected_features= np.array([]).reshape(0,X.shape[1]) \r\n",
        "\r\n",
        "    auc_values_fs_train =  []\r\n",
        "\r\n",
        "    for train_index, test_index in skf.split(X, y): # va generando los indices que corresponden a train y test en cada fold\r\n",
        "        X_train, X_test = X[train_index], X[test_index] # arma que es dato de entrenamiento y qué es dato de evaluación\r\n",
        "        y_train, y_test = y[train_index], y[test_index]     # idem con los targets\r\n",
        "\r\n",
        "        scaler = MinMaxScaler() # escaleo por separado ambos sets\r\n",
        "        scaler.fit(X_train) \r\n",
        "        X_train = scaler.transform(X_train)\r\n",
        "\r\n",
        "        scaler = MinMaxScaler() # escaleo por separado ambos sets\r\n",
        "        scaler.fit(X_test) \r\n",
        "        X_test = scaler.transform(X_test)\r\n",
        "\r\n",
        "        selector = SelectKBest(k=Kbest) # por defecto, usa el F score de ANOVA y los Kbest features\r\n",
        "        selector.fit(X_train, y_train) # encuentro los F scores \r\n",
        "        X_train_fs = selector.transform(X_train) # me quedo con los features mejor rankeados en el set de entrenamiento\r\n",
        "        X_test_fs = selector.transform(X_test) # me quedo con los features mejor rankeados en el set de evaluacion\r\n",
        "        features = np.array(selector.get_support()).reshape((1,-1)) # esto me pone True si la variable correspondiente fue seleccionada y False sino\r\n",
        "\r\n",
        "        selected_features =  np.concatenate((selected_features,features),axis=0)\r\n",
        "\r\n",
        "        regLog = LogisticRegression(penalty = 'l2', C = c)#, max_iter=10000) # Inicializamos nuevamente el modelo. max_iter es la cantidad de iteraciones maximas del algoritmo de optimizacion de parametros antes de detenerse.\r\n",
        "        regLog.fit(X_train_fs, y_train) # Ajustamos el modelo con los datos de entrenamiento\r\n",
        "\r\n",
        "\r\n",
        "        probas_test = regLog.predict_proba(X_test_fs)  # probabilidades con datos de evaluación\r\n",
        "        fpr_test, tpr_test, thresholds_test = roc_curve(y_test, probas_test[:,1]) # para plotear curva ROC con datos de entrenamiento\r\n",
        "        auc_test = roc_auc_score(y_test, probas_test[:,1]) #  AUC con datos de evaluación\r\n",
        "        auc_values_fs_test.append(auc_test)\r\n",
        "\r\n",
        "        probas_train = regLog.predict_proba(X_train_fs)\r\n",
        "        auc_train = roc_auc_score(y_train, probas_train[:,1]) #  AUC con datos de entrenamiento\r\n",
        "        auc_values_fs_train.append(auc_train)\r\n",
        "\r\n",
        "    #print(f'Agarrando los {Kbest} mejores features, el AUC_test y AUC_train promedio es:')\r\n",
        "    #print(np.mean(auc_values_fs_test), np.mean(auc_values_fs_train))\r\n",
        "\r\n",
        "    AUC_promedio_test[c_index, k_index] = np.mean(auc_values_fs_test)\r\n",
        "    AUC_promedio_train[c_index, k_index] = np.mean(auc_values_fs_train)\r\n",
        "    \r\n",
        "    if np.mean(auc_values_fs_test) > Best_auc:\r\n",
        "      Best_auc = np.mean(auc_values_fs_test)\r\n",
        "      Best_features = selected_features\r\n",
        "    \r\n",
        "    k_index +=1\r\n",
        "\r\n",
        "  c_index +=1\r\n",
        "\r\n",
        "#\r\n",
        "\r\n",
        "index_to_c = dict(zip(range(len(c_values)), c_values))\r\n",
        "index_to_k = dict(zip(range(len(k_values)), k_values))\r\n",
        "\r\n",
        "\r\n",
        "fig, ax = plt.subplots(1, 2, figsize = (12, 8))\r\n",
        "ax[0].imshow(AUC_promedio_test)\r\n",
        "ax[1].imshow(AUC_promedio_train)\r\n",
        "fig.suptitle(\"AUC para cada valor de Kbest y C\")\r\n",
        "titulo = \"test\"\r\n",
        "for j in [0, 1]:\r\n",
        "  ax[j].set_title(titulo)\r\n",
        "  titulo = \"train\"\r\n",
        "  ax[j].set_xticks(np.arange(len(k_values)))\r\n",
        "  ax[j].set_xticklabels(k_values)\r\n",
        "  ax[j].set_yticks(np.arange(len(c_values)))\r\n",
        "  ax[j].set_yticklabels(c_values)\r\n",
        "  ax[j].set_xlabel(\"Kbest\")\r\n",
        "  ax[j].set_ylabel(\"C\")\r\n",
        "\r\n",
        "\r\n"
      ],
      "outputs": [
        {
          "output_type": "display_data",
          "data": {
            "image/png": "[encoded data removed]",
            "text/plain": [
              "<Figure size 864x576 with 2 Axes>"
            ]
          },
          "metadata": {
            "tags": [],
            "needs_background": "light"
          }
        }
      ],
      "metadata": {
        "id": "7BhWGyvXy70Q",
        "colab": {
          "base_uri": "https://localhost:8080/",
          "height": 554
        },
        "outputId": "721253a5-341b-415a-a855-c9e480bfb731"
      }
    },
    {
      "cell_type": "code",
      "execution_count": null,
      "source": [
        "index_to_c = dict(zip(range(len(c_values)), c_values))\r\n",
        "index_to_k = dict(zip(range(len(k_values)), k_values))\r\n",
        "\r\n",
        "maximo = AUC_promedio_test.max()\r\n",
        "posicionMax = np.unravel_index(np.argmax(AUC_promedio_test, axis=None), AUC_promedio_test.shape)\r\n",
        "c_Max = index_to_c[posicionMax[0]]\r\n",
        "k_Max = index_to_k[posicionMax[1]]\r\n",
        "print(f\"El mejor AUC es de {maximo} se obtuvo con k = {k_Max} y c = {c_Max}.\")\r\n",
        "print(Best_features)"
      ],
      "outputs": [
        {
          "output_type": "stream",
          "name": "stdout",
          "text": [
            "El mejor AUC es de 0.7784468617801952 se obtuvo con k = 18 y c = 13.0.\n",
            "[[0. 1. 1. 1. 1. 1. 1. 1. 1. 0. 1. 1. 1. 1. 1. 1. 0. 1. 1. 1. 1.]\n",
            " [1. 1. 1. 1. 1. 1. 1. 1. 1. 0. 1. 1. 1. 1. 1. 1. 0. 1. 0. 1. 1.]\n",
            " [0. 1. 1. 1. 1. 1. 1. 0. 1. 1. 1. 1. 1. 1. 1. 1. 0. 1. 1. 1. 1.]\n",
            " [1. 1. 1. 1. 1. 1. 1. 1. 1. 0. 1. 1. 1. 1. 1. 1. 0. 1. 0. 1. 1.]\n",
            " [1. 1. 1. 1. 1. 1. 1. 1. 1. 0. 1. 1. 1. 1. 1. 1. 0. 1. 0. 1. 1.]]\n"
          ]
        }
      ],
      "metadata": {
        "id": "FkkFBvW1ayBI",
        "colab": {
          "base_uri": "https://localhost:8080/"
        },
        "outputId": "cd9c6e34-7034-4df8-cc3e-57af4c6238b4"
      }
    },
    {
      "cell_type": "markdown",
      "source": [
        "Uso mejor modelo."
      ],
      "metadata": {
        "id": "qUvXIeJH3qp3"
      }
    },
    {
      "cell_type": "code",
      "execution_count": null,
      "source": [
        "skf = StratifiedKFold(n_splits=5, shuffle=True) # 5 folds es un número típico si tenemos suficientes datos. Pedimos shuffle=True para que sea al azar la separación en subgrupos\r\n",
        "skf.get_n_splits(X, y) # arma los folds a partir de los datos\r\n",
        "\r\n",
        "for train_index, test_index in skf.split(X, y): # va generando los indices que corresponden a train y test en cada fold\r\n",
        "  X_train, X_test = X[train_index], X[test_index] # arma que es dato de entrenamiento y qué es dato de evaluación\r\n",
        "  y_train, y_test = y[train_index], y[test_index]     # idem con los targets\r\n",
        "\r\n",
        "  scaler = MinMaxScaler() # escaleo por separado ambos sets\r\n",
        "  scaler.fit(X_train) \r\n",
        "  X_train = scaler.transform(X_train)\r\n",
        "\r\n",
        "  scaler = MinMaxScaler() # escaleo por separado ambos sets\r\n",
        "  scaler.fit(X_test) \r\n",
        "  X_test = scaler.transform(X_test)\r\n",
        "\r\n",
        "  selector = SelectKBest(k=k_Max) # por defecto, usa el F score de ANOVA y los Kbest features\r\n",
        "  selector.fit(X_train, y_train) # encuentro los F scores \r\n",
        "  X_train_fs = selector.transform(X_train) # me quedo con los features mejor rankeados en el set de entrenamiento\r\n",
        "  X_test_fs = selector.transform(X_test) # me quedo con los features mejor rankeados en el set de evaluacion\r\n",
        "  features = np.array(selector.get_support()).reshape((1,-1)) # esto me pone True si la variable correspondiente fue seleccionada y False sino\r\n",
        "\r\n",
        "  selected_features =  np.concatenate((selected_features,features),axis=0)\r\n",
        "\r\n",
        "  regLog_best = LogisticRegression(penalty = 'l2', C = c_Max)#, max_iter=10000) # Inicializamos nuevamente el modelo. max_iter es la cantidad de iteraciones maximas del algoritmo de optimizacion de parametros antes de detenerse.\r\n",
        "  regLog_best.fit(X_train_fs, y_train) # Ajustamos el modelo con los datos de entrenamiento\r\n",
        "\r\n",
        "\r\n",
        "  probas_test = regLog_best.predict_proba(X_test_fs)  # probabilidades con datos de evaluación\r\n",
        "  fpr_test, tpr_test, thresholds_test = roc_curve(y_test, probas_test[:,1]) # para plotear curva ROC con datos de entrenamiento\r\n",
        "  auc_test = roc_auc_score(y_test, probas_test[:,1]) #  AUC con datos de evaluación\r\n",
        "\r\n"
      ],
      "outputs": [],
      "metadata": {
        "id": "TyLU6Ddt3iua"
      }
    },
    {
      "cell_type": "code",
      "execution_count": null,
      "source": [
        "auc_test\r\n",
        "\r\n"
      ],
      "outputs": [
        {
          "output_type": "execute_result",
          "data": {
            "text/plain": [
              "0.8426573426573426"
            ]
          },
          "metadata": {
            "tags": []
          },
          "execution_count": 30
        }
      ],
      "metadata": {
        "colab": {
          "base_uri": "https://localhost:8080/"
        },
        "id": "5l1tyDn74TQw",
        "outputId": "e6b66911-7523-40d1-92b9-41e1e064c997"
      }
    },
    {
      "cell_type": "markdown",
      "source": [
        "Paso a generar las probas a entregar.\n"
      ],
      "metadata": {
        "id": "jhaV97VMUNPb"
      }
    },
    {
      "cell_type": "code",
      "execution_count": null,
      "source": [
        "path = './data/anticoncepcion_indonesia_test.csv'\r\n",
        "df_test = pd.read_csv(path)\r\n",
        "df_test.columns\r\n",
        "df_test[\"tuvo_hijos\"] = (df_test[\"numero_hijos\"] > 0)*1"
      ],
      "outputs": [],
      "metadata": {
        "id": "3tuwL2_1UP8X"
      }
    },
    {
      "cell_type": "code",
      "execution_count": null,
      "source": [
        "X_final = df_test[campos].values \r\n",
        "X_final = np.concatenate((X_final, X_final**2, X_final**3), axis=1) \r\n",
        "\r\n",
        "from sklearn.model_selection import train_test_split\r\n",
        "\r\n",
        "X_train, X_test, y_train, y_test = train_test_split(X, y, test_size=0.3)\r\n",
        "\r\n",
        "scaler = MinMaxScaler() # escaleo por separado ambos sets\r\n",
        "scaler.fit(X_train) \r\n",
        "X_train = scaler.transform(X_train)\r\n",
        "\r\n",
        "scaler = MinMaxScaler() # escaleo por separado ambos sets\r\n",
        "scaler.fit(X_test) \r\n",
        "X_test = scaler.transform(X_test)\r\n",
        "\r\n",
        "scaler = MinMaxScaler() # escaleo por separado ambos sets\r\n",
        "scaler.fit(X_final) \r\n",
        "X_final = scaler.transform(X_final)\r\n",
        "\r\n",
        "selector = SelectKBest(k=k_Max) # por defecto, usa el F score de ANOVA y los Kbest features\r\n",
        "selector.fit(X_train, y_train) # encuentro los F scores \r\n",
        "X_train_fs = selector.transform(X_train) # me quedo con los features mejor rankeados en el set de entrenamiento\r\n",
        "X_test_fs = selector.transform(X_test) # me quedo con los features mejor rankeados en el set de evaluacion\r\n",
        "X_final_fs = selector.transform(X_final)\r\n",
        "\r\n",
        "regLog_best = LogisticRegression(penalty = 'l2', C = c_Max)\r\n",
        "regLog_best.fit(X_train_fs, y_train) \r\n",
        "\r\n",
        "\r\n",
        "probas_final = regLog_best.predict_proba(X_final_fs)  \r\n",
        "probas_test =  regLog_best.predict_proba(X_test_fs)  \r\n",
        "fpr_test, tpr_test, thresholds_test = roc_curve(y_test, probas_test[:,1]) # para plotear curva ROC con datos de entrenamiento\r\n",
        "auc_test = roc_auc_score(y_test, probas_test[:,1]) #  AUC con datos de evaluación \r\n",
        "auc_test"
      ],
      "outputs": [
        {
          "output_type": "execute_result",
          "data": {
            "text/plain": [
              "0.798941798941799"
            ]
          },
          "metadata": {
            "tags": []
          },
          "execution_count": 37
        }
      ],
      "metadata": {
        "colab": {
          "base_uri": "https://localhost:8080/"
        },
        "id": "2c3fDiPMURRc",
        "outputId": "cdcce841-3063-4d75-ab21-d59111d2a9e7"
      }
    },
    {
      "cell_type": "code",
      "execution_count": null,
      "source": [
        "probas_final\r\n"
      ],
      "outputs": [
        {
          "output_type": "execute_result",
          "data": {
            "text/plain": [
              "array([[0.75827034, 0.24172966],\n",
              "       [0.99545148, 0.00454852],\n",
              "       [0.79902844, 0.20097156],\n",
              "       ...,\n",
              "       [0.95519605, 0.04480395],\n",
              "       [0.94327055, 0.05672945],\n",
              "       [0.6806528 , 0.3193472 ]])"
            ]
          },
          "metadata": {
            "tags": []
          },
          "execution_count": 38
        }
      ],
      "metadata": {
        "colab": {
          "base_uri": "https://localhost:8080/"
        },
        "id": "cgLA78ijeg6c",
        "outputId": "8dca6377-ad02-4ae7-d8e0-bb7140427ff6"
      }
    }
  ]
}